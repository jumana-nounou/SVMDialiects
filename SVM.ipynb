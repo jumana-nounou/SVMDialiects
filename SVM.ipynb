{
  "cells": [
    {
      "cell_type": "code",
      "execution_count": null,
      "metadata": {
        "id": "oObUfe_6NMLl"
      },
      "outputs": [],
      "source": [
        "!pip install pyarabic\n",
        "!pip install scikit-learn-intelex\n",
        "!pip install nltk\n",
        "!pip install fasttext"
      ]
    },
    {
      "cell_type": "code",
      "execution_count": null,
      "metadata": {
        "id": "qvrrsMkqNHvo"
      },
      "outputs": [],
      "source": [
        "import pandas as pd\n",
        "import numpy as np\n",
        "import pyarabic.araby as araby\n",
        "import re ,string\n",
        "import fasttext\n",
        "from gensim.models.phrases import Phrases, Phraser\n",
        "from gensim.models import FastText\n",
        "from sklearn.model_selection import train_test_split\n",
        "from sklearn.metrics import accuracy_score\n",
        "from sklearn.svm import SVC\n",
        "from sklearnex import patch_sklearn \n",
        "import nltk\n",
        "nltk.download('stopwords')\n",
        "from nltk.corpus import stopwords"
      ]
    },
    {
      "cell_type": "code",
      "execution_count": null,
      "metadata": {
        "colab": {
          "base_uri": "https://localhost:8080/",
          "height": 423
        },
        "id": "1WQANiiGNP2A",
        "outputId": "b4995079-cc13-4ff8-ffed-5ad72810a6b0"
      },
      "outputs": [
        {
          "data": {
            "text/html": [
              "\n",
              "  <div id=\"df-48b105e2-7099-46f9-b015-07675661fbcd\">\n",
              "    <div class=\"colab-df-container\">\n",
              "      <div>\n",
              "<style scoped>\n",
              "    .dataframe tbody tr th:only-of-type {\n",
              "        vertical-align: middle;\n",
              "    }\n",
              "\n",
              "    .dataframe tbody tr th {\n",
              "        vertical-align: top;\n",
              "    }\n",
              "\n",
              "    .dataframe thead th {\n",
              "        text-align: right;\n",
              "    }\n",
              "</style>\n",
              "<table border=\"1\" class=\"dataframe\">\n",
              "  <thead>\n",
              "    <tr style=\"text-align: right;\">\n",
              "      <th></th>\n",
              "      <th>id</th>\n",
              "      <th>dialect</th>\n",
              "      <th>transformed</th>\n",
              "      <th>fineText</th>\n",
              "    </tr>\n",
              "  </thead>\n",
              "  <tbody>\n",
              "    <tr>\n",
              "      <th>0</th>\n",
              "      <td>1175358310087892992</td>\n",
              "      <td>IQ</td>\n",
              "      <td>0</td>\n",
              "      <td>لكن بالنهايه ينتفض يغير</td>\n",
              "    </tr>\n",
              "    <tr>\n",
              "      <th>1</th>\n",
              "      <td>1175416117793349632</td>\n",
              "      <td>IQ</td>\n",
              "      <td>0</td>\n",
              "      <td>يعنى هذا محسوب على البشر حيونه ووحشيه وتطلبون...</td>\n",
              "    </tr>\n",
              "    <tr>\n",
              "      <th>2</th>\n",
              "      <td>1175450108898565888</td>\n",
              "      <td>IQ</td>\n",
              "      <td>0</td>\n",
              "      <td>مبين من كلامه خليجى</td>\n",
              "    </tr>\n",
              "    <tr>\n",
              "      <th>3</th>\n",
              "      <td>1175471073770573824</td>\n",
              "      <td>IQ</td>\n",
              "      <td>0</td>\n",
              "      <td>يسلملى مرورك وروحك الحلوه</td>\n",
              "    </tr>\n",
              "    <tr>\n",
              "      <th>4</th>\n",
              "      <td>1175496913145217024</td>\n",
              "      <td>IQ</td>\n",
              "      <td>0</td>\n",
              "      <td>وين هل الغيبه اخ محمد</td>\n",
              "    </tr>\n",
              "    <tr>\n",
              "      <th>...</th>\n",
              "      <td>...</td>\n",
              "      <td>...</td>\n",
              "      <td>...</td>\n",
              "      <td>...</td>\n",
              "    </tr>\n",
              "    <tr>\n",
              "      <th>95</th>\n",
              "      <td>1168486929270300672</td>\n",
              "      <td>IQ</td>\n",
              "      <td>0</td>\n",
              "      <td>حلوه بالعراق انجمد البانيه للشتاء والباگله لل...</td>\n",
              "    </tr>\n",
              "    <tr>\n",
              "      <th>96</th>\n",
              "      <td>1168582662715510784</td>\n",
              "      <td>IQ</td>\n",
              "      <td>0</td>\n",
              "      <td>سنه يسولف برفع الصبات واللى اعتبره اللوگيه من...</td>\n",
              "    </tr>\n",
              "    <tr>\n",
              "      <th>97</th>\n",
              "      <td>1168585361787895808</td>\n",
              "      <td>IQ</td>\n",
              "      <td>0</td>\n",
              "      <td>هذا كله حتى يبقى اقتصاد ايران متوازن والعراق ...</td>\n",
              "    </tr>\n",
              "    <tr>\n",
              "      <th>98</th>\n",
              "      <td>1168585980309311488</td>\n",
              "      <td>IQ</td>\n",
              "      <td>0</td>\n",
              "      <td>كبسوله كل ست ساعات</td>\n",
              "    </tr>\n",
              "    <tr>\n",
              "      <th>99</th>\n",
              "      <td>1168595763930324992</td>\n",
              "      <td>IQ</td>\n",
              "      <td>0</td>\n",
              "      <td>صدقتى عزيزتى يسعد مساك</td>\n",
              "    </tr>\n",
              "  </tbody>\n",
              "</table>\n",
              "<p>100 rows × 4 columns</p>\n",
              "</div>\n",
              "      <button class=\"colab-df-convert\" onclick=\"convertToInteractive('df-48b105e2-7099-46f9-b015-07675661fbcd')\"\n",
              "              title=\"Convert this dataframe to an interactive table.\"\n",
              "              style=\"display:none;\">\n",
              "        \n",
              "  <svg xmlns=\"http://www.w3.org/2000/svg\" height=\"24px\"viewBox=\"0 0 24 24\"\n",
              "       width=\"24px\">\n",
              "    <path d=\"M0 0h24v24H0V0z\" fill=\"none\"/>\n",
              "    <path d=\"M18.56 5.44l.94 2.06.94-2.06 2.06-.94-2.06-.94-.94-2.06-.94 2.06-2.06.94zm-11 1L8.5 8.5l.94-2.06 2.06-.94-2.06-.94L8.5 2.5l-.94 2.06-2.06.94zm10 10l.94 2.06.94-2.06 2.06-.94-2.06-.94-.94-2.06-.94 2.06-2.06.94z\"/><path d=\"M17.41 7.96l-1.37-1.37c-.4-.4-.92-.59-1.43-.59-.52 0-1.04.2-1.43.59L10.3 9.45l-7.72 7.72c-.78.78-.78 2.05 0 2.83L4 21.41c.39.39.9.59 1.41.59.51 0 1.02-.2 1.41-.59l7.78-7.78 2.81-2.81c.8-.78.8-2.07 0-2.86zM5.41 20L4 18.59l7.72-7.72 1.47 1.35L5.41 20z\"/>\n",
              "  </svg>\n",
              "      </button>\n",
              "      \n",
              "  <style>\n",
              "    .colab-df-container {\n",
              "      display:flex;\n",
              "      flex-wrap:wrap;\n",
              "      gap: 12px;\n",
              "    }\n",
              "\n",
              "    .colab-df-convert {\n",
              "      background-color: #E8F0FE;\n",
              "      border: none;\n",
              "      border-radius: 50%;\n",
              "      cursor: pointer;\n",
              "      display: none;\n",
              "      fill: #1967D2;\n",
              "      height: 32px;\n",
              "      padding: 0 0 0 0;\n",
              "      width: 32px;\n",
              "    }\n",
              "\n",
              "    .colab-df-convert:hover {\n",
              "      background-color: #E2EBFA;\n",
              "      box-shadow: 0px 1px 2px rgba(60, 64, 67, 0.3), 0px 1px 3px 1px rgba(60, 64, 67, 0.15);\n",
              "      fill: #174EA6;\n",
              "    }\n",
              "\n",
              "    [theme=dark] .colab-df-convert {\n",
              "      background-color: #3B4455;\n",
              "      fill: #D2E3FC;\n",
              "    }\n",
              "\n",
              "    [theme=dark] .colab-df-convert:hover {\n",
              "      background-color: #434B5C;\n",
              "      box-shadow: 0px 1px 3px 1px rgba(0, 0, 0, 0.15);\n",
              "      filter: drop-shadow(0px 1px 2px rgba(0, 0, 0, 0.3));\n",
              "      fill: #FFFFFF;\n",
              "    }\n",
              "  </style>\n",
              "\n",
              "      <script>\n",
              "        const buttonEl =\n",
              "          document.querySelector('#df-48b105e2-7099-46f9-b015-07675661fbcd button.colab-df-convert');\n",
              "        buttonEl.style.display =\n",
              "          google.colab.kernel.accessAllowed ? 'block' : 'none';\n",
              "\n",
              "        async function convertToInteractive(key) {\n",
              "          const element = document.querySelector('#df-48b105e2-7099-46f9-b015-07675661fbcd');\n",
              "          const dataTable =\n",
              "            await google.colab.kernel.invokeFunction('convertToInteractive',\n",
              "                                                     [key], {});\n",
              "          if (!dataTable) return;\n",
              "\n",
              "          const docLinkHtml = 'Like what you see? Visit the ' +\n",
              "            '<a target=\"_blank\" href=https://colab.research.google.com/notebooks/data_table.ipynb>data table notebook</a>'\n",
              "            + ' to learn more about interactive tables.';\n",
              "          element.innerHTML = '';\n",
              "          dataTable['output_type'] = 'display_data';\n",
              "          await google.colab.output.renderOutput(dataTable, element);\n",
              "          const docLink = document.createElement('div');\n",
              "          docLink.innerHTML = docLinkHtml;\n",
              "          element.appendChild(docLink);\n",
              "        }\n",
              "      </script>\n",
              "    </div>\n",
              "  </div>\n",
              "  "
            ],
            "text/plain": [
              "                     id dialect  transformed  \\\n",
              "0   1175358310087892992      IQ            0   \n",
              "1   1175416117793349632      IQ            0   \n",
              "2   1175450108898565888      IQ            0   \n",
              "3   1175471073770573824      IQ            0   \n",
              "4   1175496913145217024      IQ            0   \n",
              "..                  ...     ...          ...   \n",
              "95  1168486929270300672      IQ            0   \n",
              "96  1168582662715510784      IQ            0   \n",
              "97  1168585361787895808      IQ            0   \n",
              "98  1168585980309311488      IQ            0   \n",
              "99  1168595763930324992      IQ            0   \n",
              "\n",
              "                                             fineText  \n",
              "0                            لكن بالنهايه ينتفض يغير   \n",
              "1    يعنى هذا محسوب على البشر حيونه ووحشيه وتطلبون...  \n",
              "2                                 مبين من كلامه خليجى  \n",
              "3                          يسلملى مرورك وروحك الحلوه   \n",
              "4                              وين هل الغيبه اخ محمد   \n",
              "..                                                ...  \n",
              "95   حلوه بالعراق انجمد البانيه للشتاء والباگله لل...  \n",
              "96   سنه يسولف برفع الصبات واللى اعتبره اللوگيه من...  \n",
              "97   هذا كله حتى يبقى اقتصاد ايران متوازن والعراق ...  \n",
              "98                                 كبسوله كل ست ساعات  \n",
              "99                            صدقتى عزيزتى يسعد مساك   \n",
              "\n",
              "[100 rows x 4 columns]"
            ]
          },
          "execution_count": 4,
          "metadata": {},
          "output_type": "execute_result"
        }
      ],
      "source": [
        "df=pd.read_csv('/content/transformed.csv', encoding='utf-8-sig')\n",
        "df.head(100)"
      ]
    },
    {
      "cell_type": "markdown",
      "source": [
        "**model cannot run with 400k rows so we need to take a sample of the dataset, but first we must shuffle the data to guarantee the sample we take has all 17 unique dialects, instead of taking the first 20k rows**"
      ],
      "metadata": {
        "id": "4_EBdFxfxPbQ"
      }
    },
    {
      "cell_type": "code",
      "execution_count": null,
      "metadata": {
        "colab": {
          "base_uri": "https://localhost:8080/"
        },
        "id": "b74xLwF-DacG",
        "outputId": "551bdfd9-de71-4699-e097-38da5b312709"
      },
      "outputs": [
        {
          "name": "stdout",
          "output_type": "stream",
          "text": [
            "['SA' 'KW' 'OM' 'SY' 'PL' 'LB' 'SD' 'EG' 'MA' 'LY' 'IQ' 'AE' 'BH' 'QA'\n",
            " 'JO' 'YE' 'TN' 'DZ']\n"
          ]
        }
      ],
      "source": [
        "shuffled = df.sample(frac=1, random_state=42) \n",
        "selected_rows = shuffled.head(60000)\n",
        "print(selected_rows['dialect'].unique())"
      ]
    },
    {
      "cell_type": "code",
      "execution_count": null,
      "metadata": {
        "colab": {
          "base_uri": "https://localhost:8080/"
        },
        "id": "vDL6ZNKYNTGF",
        "outputId": "e7afa1bc-68a5-400f-835c-f56f5c232074"
      },
      "outputs": [
        {
          "data": {
            "text/plain": [
              "array([ 8, 13, 14,  4,  3, 12, 15, 11,  7,  1,  0, 16, 17,  2,  6,  9,  5,\n",
              "       10])"
            ]
          },
          "execution_count": 6,
          "metadata": {},
          "output_type": "execute_result"
        }
      ],
      "source": [
        "selected_rows['transformed'].unique()"
      ]
    },
    {
      "cell_type": "code",
      "execution_count": null,
      "metadata": {
        "colab": {
          "base_uri": "https://localhost:8080/"
        },
        "id": "pnjfW_ooEulo",
        "outputId": "635c2da6-7a1e-46e9-e0b3-aa64c9836206"
      },
      "outputs": [
        {
          "name": "stdout",
          "output_type": "stream",
          "text": [
            "The column 'fineText' contains null values.\n"
          ]
        }
      ],
      "source": [
        "column_name = 'fineText'\n",
        "has_null_values = selected_rows[column_name].isnull().any()\n",
        "\n",
        "if has_null_values:\n",
        "    print(f\"The column '{column_name}' contains null values.\")\n",
        "else:\n",
        "    print(f\"The column '{column_name}' does not contain null values.\")"
      ]
    },
    {
      "cell_type": "code",
      "execution_count": null,
      "metadata": {
        "colab": {
          "base_uri": "https://localhost:8080/"
        },
        "id": "bsugkdfnNlyh",
        "outputId": "09630716-9bad-4451-b831-7d54575ee985"
      },
      "outputs": [
        {
          "data": {
            "text/plain": [
              "id              int64\n",
              "dialect        object\n",
              "transformed     int64\n",
              "fineText       object\n",
              "dtype: object"
            ]
          },
          "execution_count": 8,
          "metadata": {},
          "output_type": "execute_result"
        }
      ],
      "source": [
        "selected_rows.dtypes"
      ]
    },
    {
      "cell_type": "markdown",
      "source": [
        "**type cast 'fineText' as string**"
      ],
      "metadata": {
        "id": "F4ct5OnExwAX"
      }
    },
    {
      "cell_type": "code",
      "execution_count": null,
      "metadata": {
        "id": "yI42-R6QNpxP"
      },
      "outputs": [],
      "source": [
        "selected_rows['fineText'] = selected_rows['fineText'].fillna('').astype(str)"
      ]
    },
    {
      "cell_type": "code",
      "execution_count": null,
      "metadata": {
        "colab": {
          "base_uri": "https://localhost:8080/"
        },
        "id": "6ad5jg25NX4L",
        "outputId": "20de1d37-99f0-41a5-e871-d6d495691dd3"
      },
      "outputs": [
        {
          "name": "stdout",
          "output_type": "stream",
          "text": [
            "[<class 'str'>]\n"
          ]
        }
      ],
      "source": [
        "print(selected_rows['fineText'].apply(type).unique())"
      ]
    },
    {
      "cell_type": "markdown",
      "metadata": {
        "id": "LtOUnzsQNuRF"
      },
      "source": [
        "# ***Step 1: Preprocessing***"
      ]
    },
    {
      "cell_type": "markdown",
      "metadata": {
        "id": "RI-GVc0hyBgd"
      },
      "source": [
        "**Remove Arabic stop words from the text**"
      ]
    },
    {
      "cell_type": "code",
      "execution_count": null,
      "metadata": {
        "id": "K-nyruX93n1c"
      },
      "outputs": [],
      "source": [
        "stop_words = set(stopwords.words('arabic'))"
      ]
    },
    {
      "cell_type": "code",
      "execution_count": null,
      "metadata": {
        "id": "W4fxhTI0yHr5"
      },
      "outputs": [],
      "source": [
        "def process_text(text):\n",
        "    if isinstance(text, str):\n",
        "        return ' '.join([word for word in text.split() if word not in stop_words])\n",
        "    return ''\n",
        "\n",
        "selected_rows['fineText'] = selected_rows['fineText'].apply(process_text)"
      ]
    },
    {
      "cell_type": "markdown",
      "source": [
        "**some preprocessing steps have removed most fineText values so i need to check after each cleaning step that values are still there**"
      ],
      "metadata": {
        "id": "dYeFoivQzoML"
      }
    },
    {
      "cell_type": "code",
      "execution_count": null,
      "metadata": {
        "colab": {
          "base_uri": "https://localhost:8080/",
          "height": 423
        },
        "id": "UT8JmPVaL5sx",
        "outputId": "955d1514-80ad-474d-97e4-076679cc2386"
      },
      "outputs": [
        {
          "data": {
            "text/html": [
              "\n",
              "  <div id=\"df-4900ea3d-64fa-4234-9a48-9df3b089cef2\">\n",
              "    <div class=\"colab-df-container\">\n",
              "      <div>\n",
              "<style scoped>\n",
              "    .dataframe tbody tr th:only-of-type {\n",
              "        vertical-align: middle;\n",
              "    }\n",
              "\n",
              "    .dataframe tbody tr th {\n",
              "        vertical-align: top;\n",
              "    }\n",
              "\n",
              "    .dataframe thead th {\n",
              "        text-align: right;\n",
              "    }\n",
              "</style>\n",
              "<table border=\"1\" class=\"dataframe\">\n",
              "  <thead>\n",
              "    <tr style=\"text-align: right;\">\n",
              "      <th></th>\n",
              "      <th>id</th>\n",
              "      <th>dialect</th>\n",
              "      <th>transformed</th>\n",
              "      <th>fineText</th>\n",
              "    </tr>\n",
              "  </thead>\n",
              "  <tbody>\n",
              "    <tr>\n",
              "      <th>217576</th>\n",
              "      <td>1161331866680664064</td>\n",
              "      <td>SA</td>\n",
              "      <td>8</td>\n",
              "      <td>نجاح حج العام منتدى الوطن السعودى اللى مالهم ا...</td>\n",
              "    </tr>\n",
              "    <tr>\n",
              "      <th>344491</th>\n",
              "      <td>649669594408349696</td>\n",
              "      <td>KW</td>\n",
              "      <td>13</td>\n",
              "      <td>بنفس هاليوم قبلسنه تم ايقاف سياره شباب اعمارهم...</td>\n",
              "    </tr>\n",
              "    <tr>\n",
              "      <th>380119</th>\n",
              "      <td>628467008678400000</td>\n",
              "      <td>OM</td>\n",
              "      <td>14</td>\n",
              "      <td>احسن الظن فيهم يمكن التبن حاجه حلوه عندهم</td>\n",
              "    </tr>\n",
              "    <tr>\n",
              "      <th>133458</th>\n",
              "      <td>1018050664906329984</td>\n",
              "      <td>SY</td>\n",
              "      <td>4</td>\n",
              "      <td>هادا رضا امك عليكى بعتلك ناس حنييتهم بتشبه حني...</td>\n",
              "    </tr>\n",
              "    <tr>\n",
              "      <th>98921</th>\n",
              "      <td>1171931771346259968</td>\n",
              "      <td>PL</td>\n",
              "      <td>3</td>\n",
              "      <td>تامر عاشور اكيد الالبوم الجاى مش حيعمله كئيب</td>\n",
              "    </tr>\n",
              "    <tr>\n",
              "      <th>...</th>\n",
              "      <td>...</td>\n",
              "      <td>...</td>\n",
              "      <td>...</td>\n",
              "      <td>...</td>\n",
              "    </tr>\n",
              "    <tr>\n",
              "      <th>291489</th>\n",
              "      <td>960587892908228608</td>\n",
              "      <td>EG</td>\n",
              "      <td>11</td>\n",
              "      <td>فى السعيد كمان عادى دول بيلعبو فى نادى مصرى مش...</td>\n",
              "    </tr>\n",
              "    <tr>\n",
              "      <th>388205</th>\n",
              "      <td>878288196789911552</td>\n",
              "      <td>OM</td>\n",
              "      <td>14</td>\n",
              "      <td>زمان كنا نساعد ابوى فالحلوى</td>\n",
              "    </tr>\n",
              "    <tr>\n",
              "      <th>410938</th>\n",
              "      <td>883712080259493888</td>\n",
              "      <td>AE</td>\n",
              "      <td>16</td>\n",
              "      <td>زحل حر عندنا مطر</td>\n",
              "    </tr>\n",
              "    <tr>\n",
              "      <th>360858</th>\n",
              "      <td>1161926977651015680</td>\n",
              "      <td>KW</td>\n",
              "      <td>13</td>\n",
              "      <td>اللى دخلوهم مادخلوهم بالخش وكل شى مكشوف ومعروف...</td>\n",
              "    </tr>\n",
              "    <tr>\n",
              "      <th>198520</th>\n",
              "      <td>1135581896774160384</td>\n",
              "      <td>SA</td>\n",
              "      <td>8</td>\n",
              "      <td>واتحادنا السعودى ماهمه الا يعطى الدورى للفقر</td>\n",
              "    </tr>\n",
              "  </tbody>\n",
              "</table>\n",
              "<p>100 rows × 4 columns</p>\n",
              "</div>\n",
              "      <button class=\"colab-df-convert\" onclick=\"convertToInteractive('df-4900ea3d-64fa-4234-9a48-9df3b089cef2')\"\n",
              "              title=\"Convert this dataframe to an interactive table.\"\n",
              "              style=\"display:none;\">\n",
              "        \n",
              "  <svg xmlns=\"http://www.w3.org/2000/svg\" height=\"24px\"viewBox=\"0 0 24 24\"\n",
              "       width=\"24px\">\n",
              "    <path d=\"M0 0h24v24H0V0z\" fill=\"none\"/>\n",
              "    <path d=\"M18.56 5.44l.94 2.06.94-2.06 2.06-.94-2.06-.94-.94-2.06-.94 2.06-2.06.94zm-11 1L8.5 8.5l.94-2.06 2.06-.94-2.06-.94L8.5 2.5l-.94 2.06-2.06.94zm10 10l.94 2.06.94-2.06 2.06-.94-2.06-.94-.94-2.06-.94 2.06-2.06.94z\"/><path d=\"M17.41 7.96l-1.37-1.37c-.4-.4-.92-.59-1.43-.59-.52 0-1.04.2-1.43.59L10.3 9.45l-7.72 7.72c-.78.78-.78 2.05 0 2.83L4 21.41c.39.39.9.59 1.41.59.51 0 1.02-.2 1.41-.59l7.78-7.78 2.81-2.81c.8-.78.8-2.07 0-2.86zM5.41 20L4 18.59l7.72-7.72 1.47 1.35L5.41 20z\"/>\n",
              "  </svg>\n",
              "      </button>\n",
              "      \n",
              "  <style>\n",
              "    .colab-df-container {\n",
              "      display:flex;\n",
              "      flex-wrap:wrap;\n",
              "      gap: 12px;\n",
              "    }\n",
              "\n",
              "    .colab-df-convert {\n",
              "      background-color: #E8F0FE;\n",
              "      border: none;\n",
              "      border-radius: 50%;\n",
              "      cursor: pointer;\n",
              "      display: none;\n",
              "      fill: #1967D2;\n",
              "      height: 32px;\n",
              "      padding: 0 0 0 0;\n",
              "      width: 32px;\n",
              "    }\n",
              "\n",
              "    .colab-df-convert:hover {\n",
              "      background-color: #E2EBFA;\n",
              "      box-shadow: 0px 1px 2px rgba(60, 64, 67, 0.3), 0px 1px 3px 1px rgba(60, 64, 67, 0.15);\n",
              "      fill: #174EA6;\n",
              "    }\n",
              "\n",
              "    [theme=dark] .colab-df-convert {\n",
              "      background-color: #3B4455;\n",
              "      fill: #D2E3FC;\n",
              "    }\n",
              "\n",
              "    [theme=dark] .colab-df-convert:hover {\n",
              "      background-color: #434B5C;\n",
              "      box-shadow: 0px 1px 3px 1px rgba(0, 0, 0, 0.15);\n",
              "      filter: drop-shadow(0px 1px 2px rgba(0, 0, 0, 0.3));\n",
              "      fill: #FFFFFF;\n",
              "    }\n",
              "  </style>\n",
              "\n",
              "      <script>\n",
              "        const buttonEl =\n",
              "          document.querySelector('#df-4900ea3d-64fa-4234-9a48-9df3b089cef2 button.colab-df-convert');\n",
              "        buttonEl.style.display =\n",
              "          google.colab.kernel.accessAllowed ? 'block' : 'none';\n",
              "\n",
              "        async function convertToInteractive(key) {\n",
              "          const element = document.querySelector('#df-4900ea3d-64fa-4234-9a48-9df3b089cef2');\n",
              "          const dataTable =\n",
              "            await google.colab.kernel.invokeFunction('convertToInteractive',\n",
              "                                                     [key], {});\n",
              "          if (!dataTable) return;\n",
              "\n",
              "          const docLinkHtml = 'Like what you see? Visit the ' +\n",
              "            '<a target=\"_blank\" href=https://colab.research.google.com/notebooks/data_table.ipynb>data table notebook</a>'\n",
              "            + ' to learn more about interactive tables.';\n",
              "          element.innerHTML = '';\n",
              "          dataTable['output_type'] = 'display_data';\n",
              "          await google.colab.output.renderOutput(dataTable, element);\n",
              "          const docLink = document.createElement('div');\n",
              "          docLink.innerHTML = docLinkHtml;\n",
              "          element.appendChild(docLink);\n",
              "        }\n",
              "      </script>\n",
              "    </div>\n",
              "  </div>\n",
              "  "
            ],
            "text/plain": [
              "                         id dialect  transformed  \\\n",
              "217576  1161331866680664064      SA            8   \n",
              "344491   649669594408349696      KW           13   \n",
              "380119   628467008678400000      OM           14   \n",
              "133458  1018050664906329984      SY            4   \n",
              "98921   1171931771346259968      PL            3   \n",
              "...                     ...     ...          ...   \n",
              "291489   960587892908228608      EG           11   \n",
              "388205   878288196789911552      OM           14   \n",
              "410938   883712080259493888      AE           16   \n",
              "360858  1161926977651015680      KW           13   \n",
              "198520  1135581896774160384      SA            8   \n",
              "\n",
              "                                                 fineText  \n",
              "217576  نجاح حج العام منتدى الوطن السعودى اللى مالهم ا...  \n",
              "344491  بنفس هاليوم قبلسنه تم ايقاف سياره شباب اعمارهم...  \n",
              "380119          احسن الظن فيهم يمكن التبن حاجه حلوه عندهم  \n",
              "133458  هادا رضا امك عليكى بعتلك ناس حنييتهم بتشبه حني...  \n",
              "98921        تامر عاشور اكيد الالبوم الجاى مش حيعمله كئيب  \n",
              "...                                                   ...  \n",
              "291489  فى السعيد كمان عادى دول بيلعبو فى نادى مصرى مش...  \n",
              "388205                        زمان كنا نساعد ابوى فالحلوى  \n",
              "410938                                   زحل حر عندنا مطر  \n",
              "360858  اللى دخلوهم مادخلوهم بالخش وكل شى مكشوف ومعروف...  \n",
              "198520       واتحادنا السعودى ماهمه الا يعطى الدورى للفقر  \n",
              "\n",
              "[100 rows x 4 columns]"
            ]
          },
          "execution_count": 13,
          "metadata": {},
          "output_type": "execute_result"
        }
      ],
      "source": [
        "selected_rows.head(100)"
      ]
    },
    {
      "cell_type": "markdown",
      "metadata": {
        "id": "9ob88jcDNwzn"
      },
      "source": [
        "**Remove Arabic Diacritization (tashkeel) like fatha, damma, kasra, shaddah, etc:**"
      ]
    },
    {
      "cell_type": "code",
      "execution_count": null,
      "metadata": {
        "colab": {
          "base_uri": "https://localhost:8080/"
        },
        "id": "iq6hLaKjNtD3",
        "outputId": "bc8eab32-4a81-4032-bbc3-ce166a077631"
      },
      "outputs": [
        {
          "name": "stderr",
          "output_type": "stream",
          "text": [
            "<ipython-input-14-45f91e9c501a>:1: SettingWithCopyWarning: \n",
            "A value is trying to be set on a copy of a slice from a DataFrame.\n",
            "Try using .loc[row_indexer,col_indexer] = value instead\n",
            "\n",
            "See the caveats in the documentation: https://pandas.pydata.org/pandas-docs/stable/user_guide/indexing.html#returning-a-view-versus-a-copy\n",
            "  selected_rows['fineText'] = selected_rows['fineText'].apply(lambda x: araby.strip_tashkeel(str(x)))\n"
          ]
        }
      ],
      "source": [
        "selected_rows['fineText'] = selected_rows['fineText'].apply(lambda x: araby.strip_tashkeel(str(x)))\n"
      ]
    },
    {
      "cell_type": "code",
      "execution_count": null,
      "metadata": {
        "colab": {
          "base_uri": "https://localhost:8080/",
          "height": 423
        },
        "id": "14kOmyFUKwBl",
        "outputId": "680c86cb-9390-4487-e871-2b41b0e54237"
      },
      "outputs": [
        {
          "data": {
            "text/html": [
              "\n",
              "  <div id=\"df-69b79be0-255a-4555-bff2-a439d5a55b30\">\n",
              "    <div class=\"colab-df-container\">\n",
              "      <div>\n",
              "<style scoped>\n",
              "    .dataframe tbody tr th:only-of-type {\n",
              "        vertical-align: middle;\n",
              "    }\n",
              "\n",
              "    .dataframe tbody tr th {\n",
              "        vertical-align: top;\n",
              "    }\n",
              "\n",
              "    .dataframe thead th {\n",
              "        text-align: right;\n",
              "    }\n",
              "</style>\n",
              "<table border=\"1\" class=\"dataframe\">\n",
              "  <thead>\n",
              "    <tr style=\"text-align: right;\">\n",
              "      <th></th>\n",
              "      <th>id</th>\n",
              "      <th>dialect</th>\n",
              "      <th>transformed</th>\n",
              "      <th>fineText</th>\n",
              "    </tr>\n",
              "  </thead>\n",
              "  <tbody>\n",
              "    <tr>\n",
              "      <th>217576</th>\n",
              "      <td>1161331866680664064</td>\n",
              "      <td>SA</td>\n",
              "      <td>8</td>\n",
              "      <td>نجاح حج العام منتدى الوطن السعودى اللى مالهم ا...</td>\n",
              "    </tr>\n",
              "    <tr>\n",
              "      <th>344491</th>\n",
              "      <td>649669594408349696</td>\n",
              "      <td>KW</td>\n",
              "      <td>13</td>\n",
              "      <td>بنفس هاليوم قبلسنه تم ايقاف سياره شباب اعمارهم...</td>\n",
              "    </tr>\n",
              "    <tr>\n",
              "      <th>380119</th>\n",
              "      <td>628467008678400000</td>\n",
              "      <td>OM</td>\n",
              "      <td>14</td>\n",
              "      <td>احسن الظن فيهم يمكن التبن حاجه حلوه عندهم</td>\n",
              "    </tr>\n",
              "    <tr>\n",
              "      <th>133458</th>\n",
              "      <td>1018050664906329984</td>\n",
              "      <td>SY</td>\n",
              "      <td>4</td>\n",
              "      <td>هادا رضا امك عليكى بعتلك ناس حنييتهم بتشبه حني...</td>\n",
              "    </tr>\n",
              "    <tr>\n",
              "      <th>98921</th>\n",
              "      <td>1171931771346259968</td>\n",
              "      <td>PL</td>\n",
              "      <td>3</td>\n",
              "      <td>تامر عاشور اكيد الالبوم الجاى مش حيعمله كئيب</td>\n",
              "    </tr>\n",
              "    <tr>\n",
              "      <th>...</th>\n",
              "      <td>...</td>\n",
              "      <td>...</td>\n",
              "      <td>...</td>\n",
              "      <td>...</td>\n",
              "    </tr>\n",
              "    <tr>\n",
              "      <th>291489</th>\n",
              "      <td>960587892908228608</td>\n",
              "      <td>EG</td>\n",
              "      <td>11</td>\n",
              "      <td>فى السعيد كمان عادى دول بيلعبو فى نادى مصرى مش...</td>\n",
              "    </tr>\n",
              "    <tr>\n",
              "      <th>388205</th>\n",
              "      <td>878288196789911552</td>\n",
              "      <td>OM</td>\n",
              "      <td>14</td>\n",
              "      <td>زمان كنا نساعد ابوى فالحلوى</td>\n",
              "    </tr>\n",
              "    <tr>\n",
              "      <th>410938</th>\n",
              "      <td>883712080259493888</td>\n",
              "      <td>AE</td>\n",
              "      <td>16</td>\n",
              "      <td>زحل حر عندنا مطر</td>\n",
              "    </tr>\n",
              "    <tr>\n",
              "      <th>360858</th>\n",
              "      <td>1161926977651015680</td>\n",
              "      <td>KW</td>\n",
              "      <td>13</td>\n",
              "      <td>اللى دخلوهم مادخلوهم بالخش وكل شى مكشوف ومعروف...</td>\n",
              "    </tr>\n",
              "    <tr>\n",
              "      <th>198520</th>\n",
              "      <td>1135581896774160384</td>\n",
              "      <td>SA</td>\n",
              "      <td>8</td>\n",
              "      <td>واتحادنا السعودى ماهمه الا يعطى الدورى للفقر</td>\n",
              "    </tr>\n",
              "  </tbody>\n",
              "</table>\n",
              "<p>100 rows × 4 columns</p>\n",
              "</div>\n",
              "      <button class=\"colab-df-convert\" onclick=\"convertToInteractive('df-69b79be0-255a-4555-bff2-a439d5a55b30')\"\n",
              "              title=\"Convert this dataframe to an interactive table.\"\n",
              "              style=\"display:none;\">\n",
              "        \n",
              "  <svg xmlns=\"http://www.w3.org/2000/svg\" height=\"24px\"viewBox=\"0 0 24 24\"\n",
              "       width=\"24px\">\n",
              "    <path d=\"M0 0h24v24H0V0z\" fill=\"none\"/>\n",
              "    <path d=\"M18.56 5.44l.94 2.06.94-2.06 2.06-.94-2.06-.94-.94-2.06-.94 2.06-2.06.94zm-11 1L8.5 8.5l.94-2.06 2.06-.94-2.06-.94L8.5 2.5l-.94 2.06-2.06.94zm10 10l.94 2.06.94-2.06 2.06-.94-2.06-.94-.94-2.06-.94 2.06-2.06.94z\"/><path d=\"M17.41 7.96l-1.37-1.37c-.4-.4-.92-.59-1.43-.59-.52 0-1.04.2-1.43.59L10.3 9.45l-7.72 7.72c-.78.78-.78 2.05 0 2.83L4 21.41c.39.39.9.59 1.41.59.51 0 1.02-.2 1.41-.59l7.78-7.78 2.81-2.81c.8-.78.8-2.07 0-2.86zM5.41 20L4 18.59l7.72-7.72 1.47 1.35L5.41 20z\"/>\n",
              "  </svg>\n",
              "      </button>\n",
              "      \n",
              "  <style>\n",
              "    .colab-df-container {\n",
              "      display:flex;\n",
              "      flex-wrap:wrap;\n",
              "      gap: 12px;\n",
              "    }\n",
              "\n",
              "    .colab-df-convert {\n",
              "      background-color: #E8F0FE;\n",
              "      border: none;\n",
              "      border-radius: 50%;\n",
              "      cursor: pointer;\n",
              "      display: none;\n",
              "      fill: #1967D2;\n",
              "      height: 32px;\n",
              "      padding: 0 0 0 0;\n",
              "      width: 32px;\n",
              "    }\n",
              "\n",
              "    .colab-df-convert:hover {\n",
              "      background-color: #E2EBFA;\n",
              "      box-shadow: 0px 1px 2px rgba(60, 64, 67, 0.3), 0px 1px 3px 1px rgba(60, 64, 67, 0.15);\n",
              "      fill: #174EA6;\n",
              "    }\n",
              "\n",
              "    [theme=dark] .colab-df-convert {\n",
              "      background-color: #3B4455;\n",
              "      fill: #D2E3FC;\n",
              "    }\n",
              "\n",
              "    [theme=dark] .colab-df-convert:hover {\n",
              "      background-color: #434B5C;\n",
              "      box-shadow: 0px 1px 3px 1px rgba(0, 0, 0, 0.15);\n",
              "      filter: drop-shadow(0px 1px 2px rgba(0, 0, 0, 0.3));\n",
              "      fill: #FFFFFF;\n",
              "    }\n",
              "  </style>\n",
              "\n",
              "      <script>\n",
              "        const buttonEl =\n",
              "          document.querySelector('#df-69b79be0-255a-4555-bff2-a439d5a55b30 button.colab-df-convert');\n",
              "        buttonEl.style.display =\n",
              "          google.colab.kernel.accessAllowed ? 'block' : 'none';\n",
              "\n",
              "        async function convertToInteractive(key) {\n",
              "          const element = document.querySelector('#df-69b79be0-255a-4555-bff2-a439d5a55b30');\n",
              "          const dataTable =\n",
              "            await google.colab.kernel.invokeFunction('convertToInteractive',\n",
              "                                                     [key], {});\n",
              "          if (!dataTable) return;\n",
              "\n",
              "          const docLinkHtml = 'Like what you see? Visit the ' +\n",
              "            '<a target=\"_blank\" href=https://colab.research.google.com/notebooks/data_table.ipynb>data table notebook</a>'\n",
              "            + ' to learn more about interactive tables.';\n",
              "          element.innerHTML = '';\n",
              "          dataTable['output_type'] = 'display_data';\n",
              "          await google.colab.output.renderOutput(dataTable, element);\n",
              "          const docLink = document.createElement('div');\n",
              "          docLink.innerHTML = docLinkHtml;\n",
              "          element.appendChild(docLink);\n",
              "        }\n",
              "      </script>\n",
              "    </div>\n",
              "  </div>\n",
              "  "
            ],
            "text/plain": [
              "                         id dialect  transformed  \\\n",
              "217576  1161331866680664064      SA            8   \n",
              "344491   649669594408349696      KW           13   \n",
              "380119   628467008678400000      OM           14   \n",
              "133458  1018050664906329984      SY            4   \n",
              "98921   1171931771346259968      PL            3   \n",
              "...                     ...     ...          ...   \n",
              "291489   960587892908228608      EG           11   \n",
              "388205   878288196789911552      OM           14   \n",
              "410938   883712080259493888      AE           16   \n",
              "360858  1161926977651015680      KW           13   \n",
              "198520  1135581896774160384      SA            8   \n",
              "\n",
              "                                                 fineText  \n",
              "217576  نجاح حج العام منتدى الوطن السعودى اللى مالهم ا...  \n",
              "344491  بنفس هاليوم قبلسنه تم ايقاف سياره شباب اعمارهم...  \n",
              "380119          احسن الظن فيهم يمكن التبن حاجه حلوه عندهم  \n",
              "133458  هادا رضا امك عليكى بعتلك ناس حنييتهم بتشبه حني...  \n",
              "98921        تامر عاشور اكيد الالبوم الجاى مش حيعمله كئيب  \n",
              "...                                                   ...  \n",
              "291489  فى السعيد كمان عادى دول بيلعبو فى نادى مصرى مش...  \n",
              "388205                        زمان كنا نساعد ابوى فالحلوى  \n",
              "410938                                   زحل حر عندنا مطر  \n",
              "360858  اللى دخلوهم مادخلوهم بالخش وكل شى مكشوف ومعروف...  \n",
              "198520       واتحادنا السعودى ماهمه الا يعطى الدورى للفقر  \n",
              "\n",
              "[100 rows x 4 columns]"
            ]
          },
          "execution_count": 15,
          "metadata": {},
          "output_type": "execute_result"
        }
      ],
      "source": [
        "selected_rows.head(100)"
      ]
    },
    {
      "cell_type": "markdown",
      "metadata": {
        "id": "JU-b-aBfN2ky"
      },
      "source": [
        "**Remove escape codes like \\n, \\t, \\\\, etc from text**"
      ]
    },
    {
      "cell_type": "code",
      "execution_count": null,
      "metadata": {
        "colab": {
          "base_uri": "https://localhost:8080/"
        },
        "id": "Ln5PJI3XN4zb",
        "outputId": "649ea45f-6901-44d2-8872-4f0e9cede319"
      },
      "outputs": [
        {
          "name": "stderr",
          "output_type": "stream",
          "text": [
            "<ipython-input-16-ad9cd3a211d5>:1: SettingWithCopyWarning: \n",
            "A value is trying to be set on a copy of a slice from a DataFrame.\n",
            "Try using .loc[row_indexer,col_indexer] = value instead\n",
            "\n",
            "See the caveats in the documentation: https://pandas.pydata.org/pandas-docs/stable/user_guide/indexing.html#returning-a-view-versus-a-copy\n",
            "  selected_rows['fineText'] = selected_rows['fineText'].apply(lambda x :re.sub(r\"(\\\\n|\\\\r|\\\\t|\\\\)\", \"\", x).strip())\n"
          ]
        }
      ],
      "source": [
        "selected_rows['fineText'] = selected_rows['fineText'].apply(lambda x :re.sub(r\"(\\\\n|\\\\r|\\\\t|\\\\)\", \"\", x).strip())"
      ]
    },
    {
      "cell_type": "code",
      "execution_count": null,
      "metadata": {
        "colab": {
          "base_uri": "https://localhost:8080/",
          "height": 423
        },
        "id": "iTismgmWK8rS",
        "outputId": "316acf60-e327-42cc-cb84-b9ee08bce820"
      },
      "outputs": [
        {
          "data": {
            "text/html": [
              "\n",
              "  <div id=\"df-9fe46651-0cbe-4730-bf90-485bf2ed3503\">\n",
              "    <div class=\"colab-df-container\">\n",
              "      <div>\n",
              "<style scoped>\n",
              "    .dataframe tbody tr th:only-of-type {\n",
              "        vertical-align: middle;\n",
              "    }\n",
              "\n",
              "    .dataframe tbody tr th {\n",
              "        vertical-align: top;\n",
              "    }\n",
              "\n",
              "    .dataframe thead th {\n",
              "        text-align: right;\n",
              "    }\n",
              "</style>\n",
              "<table border=\"1\" class=\"dataframe\">\n",
              "  <thead>\n",
              "    <tr style=\"text-align: right;\">\n",
              "      <th></th>\n",
              "      <th>id</th>\n",
              "      <th>dialect</th>\n",
              "      <th>transformed</th>\n",
              "      <th>fineText</th>\n",
              "    </tr>\n",
              "  </thead>\n",
              "  <tbody>\n",
              "    <tr>\n",
              "      <th>217576</th>\n",
              "      <td>1161331866680664064</td>\n",
              "      <td>SA</td>\n",
              "      <td>8</td>\n",
              "      <td>نجاح حج العام منتدى الوطن السعودى اللى مالهم ا...</td>\n",
              "    </tr>\n",
              "    <tr>\n",
              "      <th>344491</th>\n",
              "      <td>649669594408349696</td>\n",
              "      <td>KW</td>\n",
              "      <td>13</td>\n",
              "      <td>بنفس هاليوم قبلسنه تم ايقاف سياره شباب اعمارهم...</td>\n",
              "    </tr>\n",
              "    <tr>\n",
              "      <th>380119</th>\n",
              "      <td>628467008678400000</td>\n",
              "      <td>OM</td>\n",
              "      <td>14</td>\n",
              "      <td>احسن الظن فيهم يمكن التبن حاجه حلوه عندهم</td>\n",
              "    </tr>\n",
              "    <tr>\n",
              "      <th>133458</th>\n",
              "      <td>1018050664906329984</td>\n",
              "      <td>SY</td>\n",
              "      <td>4</td>\n",
              "      <td>هادا رضا امك عليكى بعتلك ناس حنييتهم بتشبه حني...</td>\n",
              "    </tr>\n",
              "    <tr>\n",
              "      <th>98921</th>\n",
              "      <td>1171931771346259968</td>\n",
              "      <td>PL</td>\n",
              "      <td>3</td>\n",
              "      <td>تامر عاشور اكيد الالبوم الجاى مش حيعمله كئيب</td>\n",
              "    </tr>\n",
              "    <tr>\n",
              "      <th>...</th>\n",
              "      <td>...</td>\n",
              "      <td>...</td>\n",
              "      <td>...</td>\n",
              "      <td>...</td>\n",
              "    </tr>\n",
              "    <tr>\n",
              "      <th>242834</th>\n",
              "      <td>946146404954722432</td>\n",
              "      <td>DZ</td>\n",
              "      <td>10</td>\n",
              "      <td>انتى جبتى طاريه احب قاعده التعميم</td>\n",
              "    </tr>\n",
              "    <tr>\n",
              "      <th>201566</th>\n",
              "      <td>1118352179998412800</td>\n",
              "      <td>SA</td>\n",
              "      <td>8</td>\n",
              "      <td>صح الله لسانك محمد الحيسونى ولسانك يابوسعد ابد...</td>\n",
              "    </tr>\n",
              "    <tr>\n",
              "      <th>186679</th>\n",
              "      <td>1089546761910259584</td>\n",
              "      <td>MA</td>\n",
              "      <td>7</td>\n",
              "      <td>بغا يقول العزى انا راه باقى راجل</td>\n",
              "    </tr>\n",
              "    <tr>\n",
              "      <th>111631</th>\n",
              "      <td>1105873512756117632</td>\n",
              "      <td>PL</td>\n",
              "      <td>3</td>\n",
              "      <td>سيبكم التصدى الرهيب انا اللى مش فاهمه المدافع ...</td>\n",
              "    </tr>\n",
              "    <tr>\n",
              "      <th>311230</th>\n",
              "      <td>453258706877448192</td>\n",
              "      <td>LB</td>\n",
              "      <td>12</td>\n",
              "      <td>حط يتا عال بلاقيون عم ياخدوا</td>\n",
              "    </tr>\n",
              "  </tbody>\n",
              "</table>\n",
              "<p>1000 rows × 4 columns</p>\n",
              "</div>\n",
              "      <button class=\"colab-df-convert\" onclick=\"convertToInteractive('df-9fe46651-0cbe-4730-bf90-485bf2ed3503')\"\n",
              "              title=\"Convert this dataframe to an interactive table.\"\n",
              "              style=\"display:none;\">\n",
              "        \n",
              "  <svg xmlns=\"http://www.w3.org/2000/svg\" height=\"24px\"viewBox=\"0 0 24 24\"\n",
              "       width=\"24px\">\n",
              "    <path d=\"M0 0h24v24H0V0z\" fill=\"none\"/>\n",
              "    <path d=\"M18.56 5.44l.94 2.06.94-2.06 2.06-.94-2.06-.94-.94-2.06-.94 2.06-2.06.94zm-11 1L8.5 8.5l.94-2.06 2.06-.94-2.06-.94L8.5 2.5l-.94 2.06-2.06.94zm10 10l.94 2.06.94-2.06 2.06-.94-2.06-.94-.94-2.06-.94 2.06-2.06.94z\"/><path d=\"M17.41 7.96l-1.37-1.37c-.4-.4-.92-.59-1.43-.59-.52 0-1.04.2-1.43.59L10.3 9.45l-7.72 7.72c-.78.78-.78 2.05 0 2.83L4 21.41c.39.39.9.59 1.41.59.51 0 1.02-.2 1.41-.59l7.78-7.78 2.81-2.81c.8-.78.8-2.07 0-2.86zM5.41 20L4 18.59l7.72-7.72 1.47 1.35L5.41 20z\"/>\n",
              "  </svg>\n",
              "      </button>\n",
              "      \n",
              "  <style>\n",
              "    .colab-df-container {\n",
              "      display:flex;\n",
              "      flex-wrap:wrap;\n",
              "      gap: 12px;\n",
              "    }\n",
              "\n",
              "    .colab-df-convert {\n",
              "      background-color: #E8F0FE;\n",
              "      border: none;\n",
              "      border-radius: 50%;\n",
              "      cursor: pointer;\n",
              "      display: none;\n",
              "      fill: #1967D2;\n",
              "      height: 32px;\n",
              "      padding: 0 0 0 0;\n",
              "      width: 32px;\n",
              "    }\n",
              "\n",
              "    .colab-df-convert:hover {\n",
              "      background-color: #E2EBFA;\n",
              "      box-shadow: 0px 1px 2px rgba(60, 64, 67, 0.3), 0px 1px 3px 1px rgba(60, 64, 67, 0.15);\n",
              "      fill: #174EA6;\n",
              "    }\n",
              "\n",
              "    [theme=dark] .colab-df-convert {\n",
              "      background-color: #3B4455;\n",
              "      fill: #D2E3FC;\n",
              "    }\n",
              "\n",
              "    [theme=dark] .colab-df-convert:hover {\n",
              "      background-color: #434B5C;\n",
              "      box-shadow: 0px 1px 3px 1px rgba(0, 0, 0, 0.15);\n",
              "      filter: drop-shadow(0px 1px 2px rgba(0, 0, 0, 0.3));\n",
              "      fill: #FFFFFF;\n",
              "    }\n",
              "  </style>\n",
              "\n",
              "      <script>\n",
              "        const buttonEl =\n",
              "          document.querySelector('#df-9fe46651-0cbe-4730-bf90-485bf2ed3503 button.colab-df-convert');\n",
              "        buttonEl.style.display =\n",
              "          google.colab.kernel.accessAllowed ? 'block' : 'none';\n",
              "\n",
              "        async function convertToInteractive(key) {\n",
              "          const element = document.querySelector('#df-9fe46651-0cbe-4730-bf90-485bf2ed3503');\n",
              "          const dataTable =\n",
              "            await google.colab.kernel.invokeFunction('convertToInteractive',\n",
              "                                                     [key], {});\n",
              "          if (!dataTable) return;\n",
              "\n",
              "          const docLinkHtml = 'Like what you see? Visit the ' +\n",
              "            '<a target=\"_blank\" href=https://colab.research.google.com/notebooks/data_table.ipynb>data table notebook</a>'\n",
              "            + ' to learn more about interactive tables.';\n",
              "          element.innerHTML = '';\n",
              "          dataTable['output_type'] = 'display_data';\n",
              "          await google.colab.output.renderOutput(dataTable, element);\n",
              "          const docLink = document.createElement('div');\n",
              "          docLink.innerHTML = docLinkHtml;\n",
              "          element.appendChild(docLink);\n",
              "        }\n",
              "      </script>\n",
              "    </div>\n",
              "  </div>\n",
              "  "
            ],
            "text/plain": [
              "                         id dialect  transformed  \\\n",
              "217576  1161331866680664064      SA            8   \n",
              "344491   649669594408349696      KW           13   \n",
              "380119   628467008678400000      OM           14   \n",
              "133458  1018050664906329984      SY            4   \n",
              "98921   1171931771346259968      PL            3   \n",
              "...                     ...     ...          ...   \n",
              "242834   946146404954722432      DZ           10   \n",
              "201566  1118352179998412800      SA            8   \n",
              "186679  1089546761910259584      MA            7   \n",
              "111631  1105873512756117632      PL            3   \n",
              "311230   453258706877448192      LB           12   \n",
              "\n",
              "                                                 fineText  \n",
              "217576  نجاح حج العام منتدى الوطن السعودى اللى مالهم ا...  \n",
              "344491  بنفس هاليوم قبلسنه تم ايقاف سياره شباب اعمارهم...  \n",
              "380119          احسن الظن فيهم يمكن التبن حاجه حلوه عندهم  \n",
              "133458  هادا رضا امك عليكى بعتلك ناس حنييتهم بتشبه حني...  \n",
              "98921        تامر عاشور اكيد الالبوم الجاى مش حيعمله كئيب  \n",
              "...                                                   ...  \n",
              "242834                  انتى جبتى طاريه احب قاعده التعميم  \n",
              "201566  صح الله لسانك محمد الحيسونى ولسانك يابوسعد ابد...  \n",
              "186679                   بغا يقول العزى انا راه باقى راجل  \n",
              "111631  سيبكم التصدى الرهيب انا اللى مش فاهمه المدافع ...  \n",
              "311230                       حط يتا عال بلاقيون عم ياخدوا  \n",
              "\n",
              "[1000 rows x 4 columns]"
            ]
          },
          "execution_count": 17,
          "metadata": {},
          "output_type": "execute_result"
        }
      ],
      "source": [
        "selected_rows.head(1000)"
      ]
    },
    {
      "cell_type": "markdown",
      "metadata": {
        "id": "s2aWEl6pN6rI"
      },
      "source": [
        "**Remove URL from text**"
      ]
    },
    {
      "cell_type": "code",
      "execution_count": null,
      "metadata": {
        "colab": {
          "base_uri": "https://localhost:8080/"
        },
        "id": "EhIAUnCTN9k1",
        "outputId": "9c799375-171e-4372-8d11-84885d4d6322"
      },
      "outputs": [
        {
          "name": "stderr",
          "output_type": "stream",
          "text": [
            "<ipython-input-18-487c4a0eff67>:1: SettingWithCopyWarning: \n",
            "A value is trying to be set on a copy of a slice from a DataFrame.\n",
            "Try using .loc[row_indexer,col_indexer] = value instead\n",
            "\n",
            "See the caveats in the documentation: https://pandas.pydata.org/pandas-docs/stable/user_guide/indexing.html#returning-a-view-versus-a-copy\n",
            "  selected_rows['fineText'] = selected_rows['fineText'].apply(lambda x : re.sub(r'http\\S+', '', x, flags=re.MULTILINE))\n"
          ]
        }
      ],
      "source": [
        "selected_rows['fineText'] = selected_rows['fineText'].apply(lambda x : re.sub(r'http\\S+', '', x, flags=re.MULTILINE))"
      ]
    },
    {
      "cell_type": "code",
      "execution_count": null,
      "metadata": {
        "colab": {
          "base_uri": "https://localhost:8080/",
          "height": 423
        },
        "id": "t7CANXlLLCfI",
        "outputId": "1967e9e4-1199-4596-fe56-b1efc5935bef"
      },
      "outputs": [
        {
          "data": {
            "text/html": [
              "\n",
              "  <div id=\"df-cad8a438-6073-4153-b66f-fd5e9fcee149\">\n",
              "    <div class=\"colab-df-container\">\n",
              "      <div>\n",
              "<style scoped>\n",
              "    .dataframe tbody tr th:only-of-type {\n",
              "        vertical-align: middle;\n",
              "    }\n",
              "\n",
              "    .dataframe tbody tr th {\n",
              "        vertical-align: top;\n",
              "    }\n",
              "\n",
              "    .dataframe thead th {\n",
              "        text-align: right;\n",
              "    }\n",
              "</style>\n",
              "<table border=\"1\" class=\"dataframe\">\n",
              "  <thead>\n",
              "    <tr style=\"text-align: right;\">\n",
              "      <th></th>\n",
              "      <th>id</th>\n",
              "      <th>dialect</th>\n",
              "      <th>transformed</th>\n",
              "      <th>fineText</th>\n",
              "    </tr>\n",
              "  </thead>\n",
              "  <tbody>\n",
              "    <tr>\n",
              "      <th>217576</th>\n",
              "      <td>1161331866680664064</td>\n",
              "      <td>SA</td>\n",
              "      <td>8</td>\n",
              "      <td>نجاح حج العام منتدى الوطن السعودى اللى مالهم ا...</td>\n",
              "    </tr>\n",
              "    <tr>\n",
              "      <th>344491</th>\n",
              "      <td>649669594408349696</td>\n",
              "      <td>KW</td>\n",
              "      <td>13</td>\n",
              "      <td>بنفس هاليوم قبلسنه تم ايقاف سياره شباب اعمارهم...</td>\n",
              "    </tr>\n",
              "    <tr>\n",
              "      <th>380119</th>\n",
              "      <td>628467008678400000</td>\n",
              "      <td>OM</td>\n",
              "      <td>14</td>\n",
              "      <td>احسن الظن فيهم يمكن التبن حاجه حلوه عندهم</td>\n",
              "    </tr>\n",
              "    <tr>\n",
              "      <th>133458</th>\n",
              "      <td>1018050664906329984</td>\n",
              "      <td>SY</td>\n",
              "      <td>4</td>\n",
              "      <td>هادا رضا امك عليكى بعتلك ناس حنييتهم بتشبه حني...</td>\n",
              "    </tr>\n",
              "    <tr>\n",
              "      <th>98921</th>\n",
              "      <td>1171931771346259968</td>\n",
              "      <td>PL</td>\n",
              "      <td>3</td>\n",
              "      <td>تامر عاشور اكيد الالبوم الجاى مش حيعمله كئيب</td>\n",
              "    </tr>\n",
              "    <tr>\n",
              "      <th>...</th>\n",
              "      <td>...</td>\n",
              "      <td>...</td>\n",
              "      <td>...</td>\n",
              "      <td>...</td>\n",
              "    </tr>\n",
              "    <tr>\n",
              "      <th>242834</th>\n",
              "      <td>946146404954722432</td>\n",
              "      <td>DZ</td>\n",
              "      <td>10</td>\n",
              "      <td>انتى جبتى طاريه احب قاعده التعميم</td>\n",
              "    </tr>\n",
              "    <tr>\n",
              "      <th>201566</th>\n",
              "      <td>1118352179998412800</td>\n",
              "      <td>SA</td>\n",
              "      <td>8</td>\n",
              "      <td>صح الله لسانك محمد الحيسونى ولسانك يابوسعد ابد...</td>\n",
              "    </tr>\n",
              "    <tr>\n",
              "      <th>186679</th>\n",
              "      <td>1089546761910259584</td>\n",
              "      <td>MA</td>\n",
              "      <td>7</td>\n",
              "      <td>بغا يقول العزى انا راه باقى راجل</td>\n",
              "    </tr>\n",
              "    <tr>\n",
              "      <th>111631</th>\n",
              "      <td>1105873512756117632</td>\n",
              "      <td>PL</td>\n",
              "      <td>3</td>\n",
              "      <td>سيبكم التصدى الرهيب انا اللى مش فاهمه المدافع ...</td>\n",
              "    </tr>\n",
              "    <tr>\n",
              "      <th>311230</th>\n",
              "      <td>453258706877448192</td>\n",
              "      <td>LB</td>\n",
              "      <td>12</td>\n",
              "      <td>حط يتا عال بلاقيون عم ياخدوا</td>\n",
              "    </tr>\n",
              "  </tbody>\n",
              "</table>\n",
              "<p>1000 rows × 4 columns</p>\n",
              "</div>\n",
              "      <button class=\"colab-df-convert\" onclick=\"convertToInteractive('df-cad8a438-6073-4153-b66f-fd5e9fcee149')\"\n",
              "              title=\"Convert this dataframe to an interactive table.\"\n",
              "              style=\"display:none;\">\n",
              "        \n",
              "  <svg xmlns=\"http://www.w3.org/2000/svg\" height=\"24px\"viewBox=\"0 0 24 24\"\n",
              "       width=\"24px\">\n",
              "    <path d=\"M0 0h24v24H0V0z\" fill=\"none\"/>\n",
              "    <path d=\"M18.56 5.44l.94 2.06.94-2.06 2.06-.94-2.06-.94-.94-2.06-.94 2.06-2.06.94zm-11 1L8.5 8.5l.94-2.06 2.06-.94-2.06-.94L8.5 2.5l-.94 2.06-2.06.94zm10 10l.94 2.06.94-2.06 2.06-.94-2.06-.94-.94-2.06-.94 2.06-2.06.94z\"/><path d=\"M17.41 7.96l-1.37-1.37c-.4-.4-.92-.59-1.43-.59-.52 0-1.04.2-1.43.59L10.3 9.45l-7.72 7.72c-.78.78-.78 2.05 0 2.83L4 21.41c.39.39.9.59 1.41.59.51 0 1.02-.2 1.41-.59l7.78-7.78 2.81-2.81c.8-.78.8-2.07 0-2.86zM5.41 20L4 18.59l7.72-7.72 1.47 1.35L5.41 20z\"/>\n",
              "  </svg>\n",
              "      </button>\n",
              "      \n",
              "  <style>\n",
              "    .colab-df-container {\n",
              "      display:flex;\n",
              "      flex-wrap:wrap;\n",
              "      gap: 12px;\n",
              "    }\n",
              "\n",
              "    .colab-df-convert {\n",
              "      background-color: #E8F0FE;\n",
              "      border: none;\n",
              "      border-radius: 50%;\n",
              "      cursor: pointer;\n",
              "      display: none;\n",
              "      fill: #1967D2;\n",
              "      height: 32px;\n",
              "      padding: 0 0 0 0;\n",
              "      width: 32px;\n",
              "    }\n",
              "\n",
              "    .colab-df-convert:hover {\n",
              "      background-color: #E2EBFA;\n",
              "      box-shadow: 0px 1px 2px rgba(60, 64, 67, 0.3), 0px 1px 3px 1px rgba(60, 64, 67, 0.15);\n",
              "      fill: #174EA6;\n",
              "    }\n",
              "\n",
              "    [theme=dark] .colab-df-convert {\n",
              "      background-color: #3B4455;\n",
              "      fill: #D2E3FC;\n",
              "    }\n",
              "\n",
              "    [theme=dark] .colab-df-convert:hover {\n",
              "      background-color: #434B5C;\n",
              "      box-shadow: 0px 1px 3px 1px rgba(0, 0, 0, 0.15);\n",
              "      filter: drop-shadow(0px 1px 2px rgba(0, 0, 0, 0.3));\n",
              "      fill: #FFFFFF;\n",
              "    }\n",
              "  </style>\n",
              "\n",
              "      <script>\n",
              "        const buttonEl =\n",
              "          document.querySelector('#df-cad8a438-6073-4153-b66f-fd5e9fcee149 button.colab-df-convert');\n",
              "        buttonEl.style.display =\n",
              "          google.colab.kernel.accessAllowed ? 'block' : 'none';\n",
              "\n",
              "        async function convertToInteractive(key) {\n",
              "          const element = document.querySelector('#df-cad8a438-6073-4153-b66f-fd5e9fcee149');\n",
              "          const dataTable =\n",
              "            await google.colab.kernel.invokeFunction('convertToInteractive',\n",
              "                                                     [key], {});\n",
              "          if (!dataTable) return;\n",
              "\n",
              "          const docLinkHtml = 'Like what you see? Visit the ' +\n",
              "            '<a target=\"_blank\" href=https://colab.research.google.com/notebooks/data_table.ipynb>data table notebook</a>'\n",
              "            + ' to learn more about interactive tables.';\n",
              "          element.innerHTML = '';\n",
              "          dataTable['output_type'] = 'display_data';\n",
              "          await google.colab.output.renderOutput(dataTable, element);\n",
              "          const docLink = document.createElement('div');\n",
              "          docLink.innerHTML = docLinkHtml;\n",
              "          element.appendChild(docLink);\n",
              "        }\n",
              "      </script>\n",
              "    </div>\n",
              "  </div>\n",
              "  "
            ],
            "text/plain": [
              "                         id dialect  transformed  \\\n",
              "217576  1161331866680664064      SA            8   \n",
              "344491   649669594408349696      KW           13   \n",
              "380119   628467008678400000      OM           14   \n",
              "133458  1018050664906329984      SY            4   \n",
              "98921   1171931771346259968      PL            3   \n",
              "...                     ...     ...          ...   \n",
              "242834   946146404954722432      DZ           10   \n",
              "201566  1118352179998412800      SA            8   \n",
              "186679  1089546761910259584      MA            7   \n",
              "111631  1105873512756117632      PL            3   \n",
              "311230   453258706877448192      LB           12   \n",
              "\n",
              "                                                 fineText  \n",
              "217576  نجاح حج العام منتدى الوطن السعودى اللى مالهم ا...  \n",
              "344491  بنفس هاليوم قبلسنه تم ايقاف سياره شباب اعمارهم...  \n",
              "380119          احسن الظن فيهم يمكن التبن حاجه حلوه عندهم  \n",
              "133458  هادا رضا امك عليكى بعتلك ناس حنييتهم بتشبه حني...  \n",
              "98921        تامر عاشور اكيد الالبوم الجاى مش حيعمله كئيب  \n",
              "...                                                   ...  \n",
              "242834                  انتى جبتى طاريه احب قاعده التعميم  \n",
              "201566  صح الله لسانك محمد الحيسونى ولسانك يابوسعد ابد...  \n",
              "186679                   بغا يقول العزى انا راه باقى راجل  \n",
              "111631  سيبكم التصدى الرهيب انا اللى مش فاهمه المدافع ...  \n",
              "311230                       حط يتا عال بلاقيون عم ياخدوا  \n",
              "\n",
              "[1000 rows x 4 columns]"
            ]
          },
          "execution_count": 19,
          "metadata": {},
          "output_type": "execute_result"
        }
      ],
      "source": [
        "selected_rows.head(1000)"
      ]
    },
    {
      "cell_type": "markdown",
      "metadata": {
        "id": "rVGWr38dOHdU"
      },
      "source": [
        "**Remove username “@handle“ from text**"
      ]
    },
    {
      "cell_type": "code",
      "execution_count": null,
      "metadata": {
        "colab": {
          "base_uri": "https://localhost:8080/"
        },
        "id": "xB0MlkfJOJOc",
        "outputId": "17d90b38-3ccc-4e82-8f80-34fb26fc768b"
      },
      "outputs": [
        {
          "name": "stderr",
          "output_type": "stream",
          "text": [
            "<ipython-input-20-f7b1b94a161c>:1: SettingWithCopyWarning: \n",
            "A value is trying to be set on a copy of a slice from a DataFrame.\n",
            "Try using .loc[row_indexer,col_indexer] = value instead\n",
            "\n",
            "See the caveats in the documentation: https://pandas.pydata.org/pandas-docs/stable/user_guide/indexing.html#returning-a-view-versus-a-copy\n",
            "  selected_rows['fineText'] = selected_rows['fineText'].apply(lambda x: re.sub(r'@\\w+\\s*', '', x))\n"
          ]
        }
      ],
      "source": [
        "selected_rows['fineText'] = selected_rows['fineText'].apply(lambda x: re.sub(r'@\\w+\\s*', '', x))"
      ]
    },
    {
      "cell_type": "code",
      "execution_count": null,
      "metadata": {
        "colab": {
          "base_uri": "https://localhost:8080/",
          "height": 423
        },
        "id": "1k13taGELcCQ",
        "outputId": "1d2233fd-1e69-4510-dd68-b13320f536b0"
      },
      "outputs": [
        {
          "data": {
            "text/html": [
              "\n",
              "  <div id=\"df-84aa077f-fcee-4af6-be9c-cba049097d9b\">\n",
              "    <div class=\"colab-df-container\">\n",
              "      <div>\n",
              "<style scoped>\n",
              "    .dataframe tbody tr th:only-of-type {\n",
              "        vertical-align: middle;\n",
              "    }\n",
              "\n",
              "    .dataframe tbody tr th {\n",
              "        vertical-align: top;\n",
              "    }\n",
              "\n",
              "    .dataframe thead th {\n",
              "        text-align: right;\n",
              "    }\n",
              "</style>\n",
              "<table border=\"1\" class=\"dataframe\">\n",
              "  <thead>\n",
              "    <tr style=\"text-align: right;\">\n",
              "      <th></th>\n",
              "      <th>id</th>\n",
              "      <th>dialect</th>\n",
              "      <th>transformed</th>\n",
              "      <th>fineText</th>\n",
              "    </tr>\n",
              "  </thead>\n",
              "  <tbody>\n",
              "    <tr>\n",
              "      <th>217576</th>\n",
              "      <td>1161331866680664064</td>\n",
              "      <td>SA</td>\n",
              "      <td>8</td>\n",
              "      <td>نجاح حج العام منتدى الوطن السعودى اللى مالهم ا...</td>\n",
              "    </tr>\n",
              "    <tr>\n",
              "      <th>344491</th>\n",
              "      <td>649669594408349696</td>\n",
              "      <td>KW</td>\n",
              "      <td>13</td>\n",
              "      <td>بنفس هاليوم قبلسنه تم ايقاف سياره شباب اعمارهم...</td>\n",
              "    </tr>\n",
              "    <tr>\n",
              "      <th>380119</th>\n",
              "      <td>628467008678400000</td>\n",
              "      <td>OM</td>\n",
              "      <td>14</td>\n",
              "      <td>احسن الظن فيهم يمكن التبن حاجه حلوه عندهم</td>\n",
              "    </tr>\n",
              "    <tr>\n",
              "      <th>133458</th>\n",
              "      <td>1018050664906329984</td>\n",
              "      <td>SY</td>\n",
              "      <td>4</td>\n",
              "      <td>هادا رضا امك عليكى بعتلك ناس حنييتهم بتشبه حني...</td>\n",
              "    </tr>\n",
              "    <tr>\n",
              "      <th>98921</th>\n",
              "      <td>1171931771346259968</td>\n",
              "      <td>PL</td>\n",
              "      <td>3</td>\n",
              "      <td>تامر عاشور اكيد الالبوم الجاى مش حيعمله كئيب</td>\n",
              "    </tr>\n",
              "    <tr>\n",
              "      <th>...</th>\n",
              "      <td>...</td>\n",
              "      <td>...</td>\n",
              "      <td>...</td>\n",
              "      <td>...</td>\n",
              "    </tr>\n",
              "    <tr>\n",
              "      <th>242834</th>\n",
              "      <td>946146404954722432</td>\n",
              "      <td>DZ</td>\n",
              "      <td>10</td>\n",
              "      <td>انتى جبتى طاريه احب قاعده التعميم</td>\n",
              "    </tr>\n",
              "    <tr>\n",
              "      <th>201566</th>\n",
              "      <td>1118352179998412800</td>\n",
              "      <td>SA</td>\n",
              "      <td>8</td>\n",
              "      <td>صح الله لسانك محمد الحيسونى ولسانك يابوسعد ابد...</td>\n",
              "    </tr>\n",
              "    <tr>\n",
              "      <th>186679</th>\n",
              "      <td>1089546761910259584</td>\n",
              "      <td>MA</td>\n",
              "      <td>7</td>\n",
              "      <td>بغا يقول العزى انا راه باقى راجل</td>\n",
              "    </tr>\n",
              "    <tr>\n",
              "      <th>111631</th>\n",
              "      <td>1105873512756117632</td>\n",
              "      <td>PL</td>\n",
              "      <td>3</td>\n",
              "      <td>سيبكم التصدى الرهيب انا اللى مش فاهمه المدافع ...</td>\n",
              "    </tr>\n",
              "    <tr>\n",
              "      <th>311230</th>\n",
              "      <td>453258706877448192</td>\n",
              "      <td>LB</td>\n",
              "      <td>12</td>\n",
              "      <td>حط يتا عال بلاقيون عم ياخدوا</td>\n",
              "    </tr>\n",
              "  </tbody>\n",
              "</table>\n",
              "<p>1000 rows × 4 columns</p>\n",
              "</div>\n",
              "      <button class=\"colab-df-convert\" onclick=\"convertToInteractive('df-84aa077f-fcee-4af6-be9c-cba049097d9b')\"\n",
              "              title=\"Convert this dataframe to an interactive table.\"\n",
              "              style=\"display:none;\">\n",
              "        \n",
              "  <svg xmlns=\"http://www.w3.org/2000/svg\" height=\"24px\"viewBox=\"0 0 24 24\"\n",
              "       width=\"24px\">\n",
              "    <path d=\"M0 0h24v24H0V0z\" fill=\"none\"/>\n",
              "    <path d=\"M18.56 5.44l.94 2.06.94-2.06 2.06-.94-2.06-.94-.94-2.06-.94 2.06-2.06.94zm-11 1L8.5 8.5l.94-2.06 2.06-.94-2.06-.94L8.5 2.5l-.94 2.06-2.06.94zm10 10l.94 2.06.94-2.06 2.06-.94-2.06-.94-.94-2.06-.94 2.06-2.06.94z\"/><path d=\"M17.41 7.96l-1.37-1.37c-.4-.4-.92-.59-1.43-.59-.52 0-1.04.2-1.43.59L10.3 9.45l-7.72 7.72c-.78.78-.78 2.05 0 2.83L4 21.41c.39.39.9.59 1.41.59.51 0 1.02-.2 1.41-.59l7.78-7.78 2.81-2.81c.8-.78.8-2.07 0-2.86zM5.41 20L4 18.59l7.72-7.72 1.47 1.35L5.41 20z\"/>\n",
              "  </svg>\n",
              "      </button>\n",
              "      \n",
              "  <style>\n",
              "    .colab-df-container {\n",
              "      display:flex;\n",
              "      flex-wrap:wrap;\n",
              "      gap: 12px;\n",
              "    }\n",
              "\n",
              "    .colab-df-convert {\n",
              "      background-color: #E8F0FE;\n",
              "      border: none;\n",
              "      border-radius: 50%;\n",
              "      cursor: pointer;\n",
              "      display: none;\n",
              "      fill: #1967D2;\n",
              "      height: 32px;\n",
              "      padding: 0 0 0 0;\n",
              "      width: 32px;\n",
              "    }\n",
              "\n",
              "    .colab-df-convert:hover {\n",
              "      background-color: #E2EBFA;\n",
              "      box-shadow: 0px 1px 2px rgba(60, 64, 67, 0.3), 0px 1px 3px 1px rgba(60, 64, 67, 0.15);\n",
              "      fill: #174EA6;\n",
              "    }\n",
              "\n",
              "    [theme=dark] .colab-df-convert {\n",
              "      background-color: #3B4455;\n",
              "      fill: #D2E3FC;\n",
              "    }\n",
              "\n",
              "    [theme=dark] .colab-df-convert:hover {\n",
              "      background-color: #434B5C;\n",
              "      box-shadow: 0px 1px 3px 1px rgba(0, 0, 0, 0.15);\n",
              "      filter: drop-shadow(0px 1px 2px rgba(0, 0, 0, 0.3));\n",
              "      fill: #FFFFFF;\n",
              "    }\n",
              "  </style>\n",
              "\n",
              "      <script>\n",
              "        const buttonEl =\n",
              "          document.querySelector('#df-84aa077f-fcee-4af6-be9c-cba049097d9b button.colab-df-convert');\n",
              "        buttonEl.style.display =\n",
              "          google.colab.kernel.accessAllowed ? 'block' : 'none';\n",
              "\n",
              "        async function convertToInteractive(key) {\n",
              "          const element = document.querySelector('#df-84aa077f-fcee-4af6-be9c-cba049097d9b');\n",
              "          const dataTable =\n",
              "            await google.colab.kernel.invokeFunction('convertToInteractive',\n",
              "                                                     [key], {});\n",
              "          if (!dataTable) return;\n",
              "\n",
              "          const docLinkHtml = 'Like what you see? Visit the ' +\n",
              "            '<a target=\"_blank\" href=https://colab.research.google.com/notebooks/data_table.ipynb>data table notebook</a>'\n",
              "            + ' to learn more about interactive tables.';\n",
              "          element.innerHTML = '';\n",
              "          dataTable['output_type'] = 'display_data';\n",
              "          await google.colab.output.renderOutput(dataTable, element);\n",
              "          const docLink = document.createElement('div');\n",
              "          docLink.innerHTML = docLinkHtml;\n",
              "          element.appendChild(docLink);\n",
              "        }\n",
              "      </script>\n",
              "    </div>\n",
              "  </div>\n",
              "  "
            ],
            "text/plain": [
              "                         id dialect  transformed  \\\n",
              "217576  1161331866680664064      SA            8   \n",
              "344491   649669594408349696      KW           13   \n",
              "380119   628467008678400000      OM           14   \n",
              "133458  1018050664906329984      SY            4   \n",
              "98921   1171931771346259968      PL            3   \n",
              "...                     ...     ...          ...   \n",
              "242834   946146404954722432      DZ           10   \n",
              "201566  1118352179998412800      SA            8   \n",
              "186679  1089546761910259584      MA            7   \n",
              "111631  1105873512756117632      PL            3   \n",
              "311230   453258706877448192      LB           12   \n",
              "\n",
              "                                                 fineText  \n",
              "217576  نجاح حج العام منتدى الوطن السعودى اللى مالهم ا...  \n",
              "344491  بنفس هاليوم قبلسنه تم ايقاف سياره شباب اعمارهم...  \n",
              "380119          احسن الظن فيهم يمكن التبن حاجه حلوه عندهم  \n",
              "133458  هادا رضا امك عليكى بعتلك ناس حنييتهم بتشبه حني...  \n",
              "98921        تامر عاشور اكيد الالبوم الجاى مش حيعمله كئيب  \n",
              "...                                                   ...  \n",
              "242834                  انتى جبتى طاريه احب قاعده التعميم  \n",
              "201566  صح الله لسانك محمد الحيسونى ولسانك يابوسعد ابد...  \n",
              "186679                   بغا يقول العزى انا راه باقى راجل  \n",
              "111631  سيبكم التصدى الرهيب انا اللى مش فاهمه المدافع ...  \n",
              "311230                       حط يتا عال بلاقيون عم ياخدوا  \n",
              "\n",
              "[1000 rows x 4 columns]"
            ]
          },
          "execution_count": 21,
          "metadata": {},
          "output_type": "execute_result"
        }
      ],
      "source": [
        "selected_rows.head(1000)"
      ]
    },
    {
      "cell_type": "code",
      "execution_count": null,
      "metadata": {
        "colab": {
          "base_uri": "https://localhost:8080/"
        },
        "id": "2wfPO-R3ON9n",
        "outputId": "d8923c64-5ce1-4921-eedb-1fdd38cc993b"
      },
      "outputs": [
        {
          "name": "stdout",
          "output_type": "stream",
          "text": [
            "60000\n"
          ]
        }
      ],
      "source": [
        "print(len(selected_rows))"
      ]
    },
    {
      "cell_type": "markdown",
      "metadata": {
        "id": "hNwTA46ZORcT"
      },
      "source": [
        "# ***Step 2: The usage of Word Embedding***"
      ]
    },
    {
      "cell_type": "markdown",
      "source": [
        "add content of fineText into a text file to be trained by fasttext later"
      ],
      "metadata": {
        "id": "PvypZy860_ip"
      }
    },
    {
      "cell_type": "code",
      "execution_count": null,
      "metadata": {
        "colab": {
          "base_uri": "https://localhost:8080/"
        },
        "id": "15kA3ThnIfGb",
        "outputId": "73afcb23-647c-4e5a-9eb7-2a179e9c6af0"
      },
      "outputs": [
        {
          "name": "stdout",
          "output_type": "stream",
          "text": [
            "Number of lines in the corpus file: 60000\n"
          ]
        }
      ],
      "source": [
        "column_data = selected_rows['fineText']\n",
        "\n",
        "corpus_file2 = 'corpus2.txt'\n",
        "column_data.to_csv(corpus_file2, sep='\\n', index=False, header=False)\n"
      ]
    },
    {
      "cell_type": "markdown",
      "source": [
        "make sure length of text file == length of fineText column"
      ],
      "metadata": {
        "id": "QKvjZkSF1VBd"
      }
    },
    {
      "cell_type": "code",
      "source": [
        "line_count = 0\n",
        "\n",
        "with open(corpus_file2, 'r') as file:\n",
        "    for line in file:\n",
        "        line_count += 1\n",
        "\n",
        "print(\"Number of lines in the corpus file:\", line_count)"
      ],
      "metadata": {
        "id": "DcMpj0ZU1UAJ"
      },
      "execution_count": null,
      "outputs": []
    },
    {
      "cell_type": "markdown",
      "source": [
        "print first 5 lines of text file to make sure everything was created orrectly"
      ],
      "metadata": {
        "id": "hg-LrCH61Zq1"
      }
    },
    {
      "cell_type": "code",
      "execution_count": null,
      "metadata": {
        "colab": {
          "base_uri": "https://localhost:8080/"
        },
        "id": "vqnvOP09JWSr",
        "outputId": "02c3d656-6dc1-40f7-b3a2-9654626c0d8c"
      },
      "outputs": [
        {
          "name": "stdout",
          "output_type": "stream",
          "text": [
            "نجاح حج العام منتدى الوطن السعودى اللى مالهم الدسايس حيله الجيج بخير وانا كلنا خدامى مملكتنا دوله كبرى ماهيب دويله والله اللى عزها مناره الاسلامى الحشود انديرها والحرب نوفى كيله ساعد حنون ساعد رامى المهدى تركى\n",
            "بنفس هاليوم قبلسنه تم ايقاف سياره شباب اعمارهم تتجاوز سنه والتهمه سيارتهم مشغلينها بدون مفتاح جطل كلبچوهم ايدهم للخلف\n",
            "احسن الظن فيهم يمكن التبن حاجه حلوه عندهم\n",
            "هادا رضا امك عليكى بعتلك ناس حنييتهم بتشبه حنيه الام\n",
            "تامر عاشور اكيد الالبوم الجاى مش حيعمله كئيب\n"
          ]
        }
      ],
      "source": [
        "num_lines = 5\n",
        "\n",
        "with open(corpus_file2, 'r', encoding='utf-8') as file:\n",
        "    for i, line in enumerate(file):\n",
        "        print(line.rstrip())\n",
        "        if i + 1 >= num_lines:\n",
        "            break"
      ]
    },
    {
      "cell_type": "code",
      "execution_count": null,
      "metadata": {
        "colab": {
          "base_uri": "https://localhost:8080/"
        },
        "id": "jNNizgzHI8FY",
        "outputId": "0c0f92b6-12b2-4a8e-e724-63548d48b78b"
      },
      "outputs": [
        {
          "data": {
            "text/plain": [
              "(60000, 4)"
            ]
          },
          "execution_count": 25,
          "metadata": {},
          "output_type": "execute_result"
        }
      ],
      "source": [
        "selected_rows.shape"
      ]
    },
    {
      "cell_type": "code",
      "execution_count": null,
      "metadata": {
        "colab": {
          "base_uri": "https://localhost:8080/"
        },
        "id": "g077TrbMOUso",
        "outputId": "b069ce24-a94e-4492-9254-133d5bd50cc1"
      },
      "outputs": [
        {
          "name": "stdout",
          "output_type": "stream",
          "text": [
            "Word: جملة\n",
            "Vector: [-0.00818765  0.14655817  0.06234251 -0.06318384  0.04172984  0.03267336\n",
            "  0.05662162 -0.08366159 -0.09369873 -0.09181898 -0.09385093 -0.06093824\n",
            "  0.11954756  0.00275488 -0.00660922 -0.00780669 -0.14874661 -0.06267768\n",
            " -0.03666773 -0.05918446  0.00707431  0.05795287  0.10962953 -0.02374876\n",
            " -0.14362943 -0.01924419  0.13287777 -0.05398592 -0.06460397  0.15765195\n",
            " -0.18087599 -0.12637825 -0.07433919 -0.00859973 -0.082987    0.03997335\n",
            "  0.04868435  0.00324054 -0.10422565 -0.0537242   0.19913082  0.06278264\n",
            "  0.06615251 -0.10892338  0.05009441 -0.0397015  -0.08962584 -0.0890315\n",
            " -0.1013047  -0.09811395 -0.14118259  0.00762574 -0.02815591  0.05063012\n",
            "  0.02804846 -0.08543026  0.08607525  0.0461076   0.04626128 -0.04070195\n",
            " -0.03446043 -0.02363844  0.0678039  -0.01978531  0.0822804   0.04690181\n",
            " -0.08576982  0.11157534  0.01444859  0.0483564  -0.08112321  0.09047667\n",
            " -0.12833352  0.05618366  0.09884424  0.02999594  0.18001898  0.01426992\n",
            "  0.17897652 -0.17675942 -0.18329893  0.02964276  0.13138385 -0.05657536\n",
            "  0.10332618  0.05154845  0.07064506  0.08996145 -0.18213968 -0.06355766\n",
            "  0.09309079  0.02902213 -0.01248007 -0.05167494 -0.13068508 -0.19010817\n",
            "  0.0916882   0.04096483 -0.07501832 -0.04813704] 100\n"
          ]
        }
      ],
      "source": [
        "model = fasttext.train_unsupervised(corpus_file2, model='skipgram')\n",
        "\n",
        "word = 'جملة'\n",
        "word_vector = model.get_word_vector(word)\n",
        "\n",
        "print(\"Word:\", word)\n",
        "print(\"Vector:\", word_vector,len(word_vector))\n"
      ]
    },
    {
      "cell_type": "code",
      "execution_count": null,
      "metadata": {
        "id": "cx_XdL05YIkT"
      },
      "outputs": [],
      "source": [
        "sentences = []\n",
        "\n",
        "with open(corpus_file2, 'r') as file:\n",
        "    for line in file:\n",
        "        sentence = line.strip()  \n",
        "        words = sentence.split()  \n",
        "        sentences.append(words)"
      ]
    },
    {
      "cell_type": "code",
      "execution_count": null,
      "metadata": {
        "colab": {
          "base_uri": "https://localhost:8080/"
        },
        "id": "meuC3lNtkd2Q",
        "outputId": "f968c6db-120e-49a5-efa8-e7cf1549cf9c"
      },
      "outputs": [
        {
          "name": "stdout",
          "output_type": "stream",
          "text": [
            "60000 ['نجاح', 'حج', 'العام', 'منتدى', 'الوطن', 'السعودى', 'اللى', 'مالهم', 'الدسايس', 'حيله', 'الجيج', 'بخير', 'وانا', 'كلنا', 'خدامى', 'مملكتنا', 'دوله', 'كبرى', 'ماهيب', 'دويله', 'والله', 'اللى', 'عزها', 'مناره', 'الاسلامى', 'الحشود', 'انديرها', 'والحرب', 'نوفى', 'كيله', 'ساعد', 'حنون', 'ساعد', 'رامى', 'المهدى', 'تركى']\n"
          ]
        }
      ],
      "source": [
        "print(len(sentences),sentences[0])     "
      ]
    },
    {
      "cell_type": "code",
      "execution_count": null,
      "metadata": {
        "id": "-ZJev0FNYVYU"
      },
      "outputs": [],
      "source": [
        "\n",
        "word_vectors = []\n",
        "labels = []\n",
        "max_sentence_length = 0\n",
        "\n",
        "for sentence, label in zip(sentences, selected_rows['transformed']):\n",
        "    sentence_vectors = []\n",
        "    for word in sentence:\n",
        "        try:\n",
        "            vector = model[word]\n",
        "            sentence_vectors.append(vector)\n",
        "        except KeyError:\n",
        "            sentence_vectors.append(np.zeros(model.dim)) \n",
        "    if sentence_vectors:  \n",
        "        word_vectors.append(sentence_vectors)\n",
        "        labels.append(label)\n",
        "        max_sentence_length = max(max_sentence_length, len(sentence_vectors))\n"
      ]
    },
    {
      "cell_type": "markdown",
      "metadata": {
        "id": "SeY2xOBK7-2T"
      },
      "source": [
        "**Pad the sentences to have the same length**"
      ]
    },
    {
      "cell_type": "code",
      "execution_count": null,
      "metadata": {
        "id": "zK6BUsaY78-q"
      },
      "outputs": [],
      "source": [
        "for i in range(len(word_vectors)):\n",
        "    sentence_vectors = word_vectors[i]\n",
        "    sentence_vectors += [np.zeros(model.dim)] * (max_sentence_length - len(sentence_vectors))\n",
        "    word_vectors[i] = sentence_vectors\n",
        "\n",
        "word_vectors = np.array(word_vectors)\n",
        "labels = np.array(labels)"
      ]
    },
    {
      "cell_type": "code",
      "execution_count": null,
      "metadata": {
        "colab": {
          "base_uri": "https://localhost:8080/"
        },
        "id": "QbTGmLektrnE",
        "outputId": "67fe100b-5afc-4616-ea29-9966a2fc8407"
      },
      "outputs": [
        {
          "data": {
            "text/plain": [
              "3"
            ]
          },
          "execution_count": 31,
          "metadata": {},
          "output_type": "execute_result"
        }
      ],
      "source": [
        "word_vectors.ndim"
      ]
    },
    {
      "cell_type": "code",
      "execution_count": null,
      "metadata": {
        "colab": {
          "base_uri": "https://localhost:8080/"
        },
        "id": "ikGrvwTRjvD1",
        "outputId": "09a80997-d764-4057-da71-0d3d29f65b97"
      },
      "outputs": [
        {
          "name": "stdout",
          "output_type": "stream",
          "text": [
            "60000 0.1791331022977829\n"
          ]
        }
      ],
      "source": [
        "print(len(word_vectors),word_vectors[0,0,0])"
      ]
    },
    {
      "cell_type": "code",
      "execution_count": null,
      "metadata": {
        "colab": {
          "base_uri": "https://localhost:8080/"
        },
        "id": "m7uVn0yhfqfE",
        "outputId": "50e60fb8-eb49-4217-ab57-3b9959b68c8f"
      },
      "outputs": [
        {
          "name": "stdout",
          "output_type": "stream",
          "text": [
            "60000 8\n"
          ]
        }
      ],
      "source": [
        "labels = selected_rows['transformed'].tolist()\n",
        "print(len(labels),labels[0])\n",
        "#labels and word_vetors MUST BE THE EXACT SAME LENGTH"
      ]
    },
    {
      "cell_type": "code",
      "execution_count": null,
      "metadata": {
        "id": "qoAVtwEUfyut"
      },
      "outputs": [],
      "source": [
        "X_train, X_test, y_train, y_test = train_test_split(word_vectors, labels, test_size=0.3, random_state=42)"
      ]
    },
    {
      "cell_type": "code",
      "execution_count": null,
      "metadata": {
        "id": "FLJKxs9uf79d"
      },
      "outputs": [],
      "source": [
        "X_train = np.array([np.concatenate(sentence) for sentence in X_train])\n",
        "X_test = np.array([np.concatenate(sentence) for sentence in X_test])"
      ]
    },
    {
      "cell_type": "code",
      "execution_count": null,
      "metadata": {
        "id": "KB7mBGm5ZFQF"
      },
      "outputs": [],
      "source": [
        "from sklearn.preprocessing import StandardScaler\n",
        "sc = StandardScaler()\n",
        "X_train = sc.fit_transform(X_train)\n",
        "X_test = sc.transform(X_test)"
      ]
    },
    {
      "cell_type": "code",
      "execution_count": null,
      "metadata": {
        "colab": {
          "background_save": true
        },
        "id": "9giWtzimf-iI",
        "outputId": "c82ed751-262d-4f30-8e8a-73de367ce39b"
      },
      "outputs": [
        {
          "data": {
            "text/html": [
              "<style>#sk-container-id-1 {color: black;background-color: white;}#sk-container-id-1 pre{padding: 0;}#sk-container-id-1 div.sk-toggleable {background-color: white;}#sk-container-id-1 label.sk-toggleable__label {cursor: pointer;display: block;width: 100%;margin-bottom: 0;padding: 0.3em;box-sizing: border-box;text-align: center;}#sk-container-id-1 label.sk-toggleable__label-arrow:before {content: \"▸\";float: left;margin-right: 0.25em;color: #696969;}#sk-container-id-1 label.sk-toggleable__label-arrow:hover:before {color: black;}#sk-container-id-1 div.sk-estimator:hover label.sk-toggleable__label-arrow:before {color: black;}#sk-container-id-1 div.sk-toggleable__content {max-height: 0;max-width: 0;overflow: hidden;text-align: left;background-color: #f0f8ff;}#sk-container-id-1 div.sk-toggleable__content pre {margin: 0.2em;color: black;border-radius: 0.25em;background-color: #f0f8ff;}#sk-container-id-1 input.sk-toggleable__control:checked~div.sk-toggleable__content {max-height: 200px;max-width: 100%;overflow: auto;}#sk-container-id-1 input.sk-toggleable__control:checked~label.sk-toggleable__label-arrow:before {content: \"▾\";}#sk-container-id-1 div.sk-estimator input.sk-toggleable__control:checked~label.sk-toggleable__label {background-color: #d4ebff;}#sk-container-id-1 div.sk-label input.sk-toggleable__control:checked~label.sk-toggleable__label {background-color: #d4ebff;}#sk-container-id-1 input.sk-hidden--visually {border: 0;clip: rect(1px 1px 1px 1px);clip: rect(1px, 1px, 1px, 1px);height: 1px;margin: -1px;overflow: hidden;padding: 0;position: absolute;width: 1px;}#sk-container-id-1 div.sk-estimator {font-family: monospace;background-color: #f0f8ff;border: 1px dotted black;border-radius: 0.25em;box-sizing: border-box;margin-bottom: 0.5em;}#sk-container-id-1 div.sk-estimator:hover {background-color: #d4ebff;}#sk-container-id-1 div.sk-parallel-item::after {content: \"\";width: 100%;border-bottom: 1px solid gray;flex-grow: 1;}#sk-container-id-1 div.sk-label:hover label.sk-toggleable__label {background-color: #d4ebff;}#sk-container-id-1 div.sk-serial::before {content: \"\";position: absolute;border-left: 1px solid gray;box-sizing: border-box;top: 0;bottom: 0;left: 50%;z-index: 0;}#sk-container-id-1 div.sk-serial {display: flex;flex-direction: column;align-items: center;background-color: white;padding-right: 0.2em;padding-left: 0.2em;position: relative;}#sk-container-id-1 div.sk-item {position: relative;z-index: 1;}#sk-container-id-1 div.sk-parallel {display: flex;align-items: stretch;justify-content: center;background-color: white;position: relative;}#sk-container-id-1 div.sk-item::before, #sk-container-id-1 div.sk-parallel-item::before {content: \"\";position: absolute;border-left: 1px solid gray;box-sizing: border-box;top: 0;bottom: 0;left: 50%;z-index: -1;}#sk-container-id-1 div.sk-parallel-item {display: flex;flex-direction: column;z-index: 1;position: relative;background-color: white;}#sk-container-id-1 div.sk-parallel-item:first-child::after {align-self: flex-end;width: 50%;}#sk-container-id-1 div.sk-parallel-item:last-child::after {align-self: flex-start;width: 50%;}#sk-container-id-1 div.sk-parallel-item:only-child::after {width: 0;}#sk-container-id-1 div.sk-dashed-wrapped {border: 1px dashed gray;margin: 0 0.4em 0.5em 0.4em;box-sizing: border-box;padding-bottom: 0.4em;background-color: white;}#sk-container-id-1 div.sk-label label {font-family: monospace;font-weight: bold;display: inline-block;line-height: 1.2em;}#sk-container-id-1 div.sk-label-container {text-align: center;}#sk-container-id-1 div.sk-container {/* jupyter's `normalize.less` sets `[hidden] { display: none; }` but bootstrap.min.css set `[hidden] { display: none !important; }` so we also need the `!important` here to be able to override the default hidden behavior on the sphinx rendered scikit-learn.org. See: https://github.com/scikit-learn/scikit-learn/issues/21755 */display: inline-block !important;position: relative;}#sk-container-id-1 div.sk-text-repr-fallback {display: none;}</style><div id=\"sk-container-id-1\" class=\"sk-top-container\"><div class=\"sk-text-repr-fallback\"><pre>SVC()</pre><b>In a Jupyter environment, please rerun this cell to show the HTML representation or trust the notebook. <br />On GitHub, the HTML representation is unable to render, please try loading this page with nbviewer.org.</b></div><div class=\"sk-container\" hidden><div class=\"sk-item\"><div class=\"sk-estimator sk-toggleable\"><input class=\"sk-toggleable__control sk-hidden--visually\" id=\"sk-estimator-id-1\" type=\"checkbox\" checked><label for=\"sk-estimator-id-1\" class=\"sk-toggleable__label sk-toggleable__label-arrow\">SVC</label><div class=\"sk-toggleable__content\"><pre>SVC()</pre></div></div></div></div></div>"
            ],
            "text/plain": [
              "SVC()"
            ]
          },
          "execution_count": 37,
          "metadata": {},
          "output_type": "execute_result"
        }
      ],
      "source": [
        "svm_model = SVC(probability=False)\n",
        "svm_model.fit(X_train, y_train)"
      ]
    },
    {
      "cell_type": "code",
      "execution_count": null,
      "metadata": {
        "id": "--uDNAd8T9NI"
      },
      "outputs": [],
      "source": [
        "y_pred = svm_model.predict(X_test)\n",
        "accuracy = accuracy_score(y_test, y_pred)\n",
        "print(\"Accuracy:\", accuracy)"
      ]
    },
    {
      "cell_type": "markdown",
      "metadata": {
        "id": "adDRBEoBULw_"
      },
      "source": [
        "if svm doesnt work with word vectors, you should train svm using one hot encoder instead:"
      ]
    },
    {
      "cell_type": "code",
      "execution_count": null,
      "metadata": {
        "id": "3XZa8KM_yPcD"
      },
      "outputs": [],
      "source": [
        "# import pandas as pd\n",
        "# from sklearn.preprocessing import OneHotEncoder\n",
        "\n",
        "# # Select the columns for one-hot encoding\n",
        "# columns_to_encode = ['transformed', 'fineText']\n",
        "\n",
        "# # Extract the columns for encoding\n",
        "# data_to_encode = selected_rows[columns_to_encode]\n",
        "\n",
        "# # Create an instance of the OneHotEncoder\n",
        "# encoder = OneHotEncoder(sparse=False)\n",
        "\n",
        "# # Fit and transform the data for encoding\n",
        "# encoded_data = encoder.fit_transform(data_to_encode)\n",
        "\n",
        "# # Retrieve the feature names from the encoder\n",
        "# feature_names = encoder.get_feature_names_out(columns_to_encode)\n",
        "\n",
        "# # Convert the encoded data into a DataFrame with the feature names\n",
        "# encoded_df = pd.DataFrame(encoded_data, columns=feature_names)\n",
        "\n",
        "# # Concatenate the encoded DataFrame with the original DataFrame\n",
        "# df_encoded = pd.concat([selected_rows, encoded_df], axis=1)\n",
        "\n",
        "# df_encoded.head(10)\n"
      ]
    }
  ],
  "metadata": {
    "colab": {
      "provenance": []
    },
    "kernelspec": {
      "display_name": "Python 3",
      "name": "python3"
    },
    "language_info": {
      "name": "python"
    }
  },
  "nbformat": 4,
  "nbformat_minor": 0
}